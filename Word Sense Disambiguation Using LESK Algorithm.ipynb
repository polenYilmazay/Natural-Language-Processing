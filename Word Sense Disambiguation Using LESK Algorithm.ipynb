{
 "cells": [
  {
   "cell_type": "code",
   "execution_count": 1,
   "metadata": {},
   "outputs": [],
   "source": [
    "class Synset():\n",
    "    def __init__(self,name,definition):\n",
    "        self._name = name\n",
    "        if isinstance(definition, str):\n",
    "            self._definition = definition\n",
    "        else:\n",
    "            self._list = definition\n",
    "            \n",
    "    def __repr__(self):\n",
    "        return \"%s : '%s' \" % (self._name, self._definition)\n",
    "    \n",
    "    def name(self):\n",
    "        return self._name\n",
    "    \n",
    "    def list(self):\n",
    "        return self._list\n",
    "    \n",
    "    def definition(self):\n",
    "        return self._definition\n",
    "    \n",
    "    def get(self,str):\n",
    "        for set in self._list:\n",
    "            if set.name() == str:\n",
    "                return set.list()"
   ]
  },
  {
   "cell_type": "code",
   "execution_count": 7,
   "metadata": {},
   "outputs": [],
   "source": [
    "At_1 = Synset(\"At_1\", \"Satrançta, her yönde siyahtan beyaza ve beyazdan siyaha bir hane atlayarak L biçiminde hareket eden taş\")\n",
    "At_2 = Synset(\"At_2\", \"binme, yük çekme, taşıma vb. hizmetlerde kullanılan, tek tırnaklı hayvan\")\n",
    "\n",
    "Dolu_1 = Synset(\"Dolu_1\", \"Havada su buğusunun birden yoğunlaşıp katılaşmasından oluşan, türlü irilikte, yuvarlak veya düzensiz biçimli buz parçaları durumunda yere hızla düşen bir yağış türü\")\n",
    "Dolu_2 = Synset(\"Dolu_2\", \"İçi boş olmayan, dolmuş\")\n",
    "\n",
    "\n",
    "\n",
    "at = Synset(\"at\",[At_1,At_2])\n",
    "dolu = Synset(\"dolu\",[,Dolu_1,Dolu_2])\n",
    "\n",
    "_synsets = Synset(\"_synsets\",[at,dolu])\n"
   ]
  },
  {
   "cell_type": "code",
   "execution_count": 3,
   "metadata": {},
   "outputs": [],
   "source": [
    "def lesk(context_sentence, ambiguous_word,synsets=None):\n",
    "    context = set(context_sentence)\n",
    "    \n",
    "    if synsets is None:\n",
    "        synsets = _synsets.get(ambiguous_word)\n",
    "        \n",
    "    if not synsets:\n",
    "        return None\n",
    "    \n",
    "    _, sense = max(\n",
    "        (len(context.intersection(ss.definition().split())),ss) \n",
    "        for ss in synsets\n",
    "    )\n",
    "    \n",
    "    return sense"
   ]
  },
  {
   "cell_type": "code",
   "execution_count": 4,
   "metadata": {},
   "outputs": [
    {
     "name": "stderr",
     "output_type": "stream",
     "text": [
      "Neither PyTorch nor TensorFlow >= 2.0 have been found. Models won't be available and only tokenizers, configuration and file/data utilities can be used.\n"
     ]
    }
   ],
   "source": [
    "from transformers import AutoTokenizer\n",
    "tokenizer=AutoTokenizer.from_pretrained(\"dbmdz/bert-base-turkish-cased\")\n",
    "\n",
    "text1=\"Satrançta atını koruman önemlidir.\"\n",
    "text2=\"Ağzına kadar dolu şişeyi tek dikişte bitirdi\"\n",
    "\n",
    "context1 = tokenizer.tokenize(text1)\n",
    "context2 = tokenizer.tokenize(text2)"
   ]
  },
  {
   "cell_type": "code",
   "execution_count": 5,
   "metadata": {},
   "outputs": [
    {
     "name": "stdout",
     "output_type": "stream",
     "text": [
      "At_1 : 'Satrançta, her yönde siyahtan beyaza ve beyazdan siyaha bir hane atlayarak L biçiminde hareket eden taş' \n"
     ]
    }
   ],
   "source": [
    "result1=lesk(context1,'at')\n",
    "print(result1)"
   ]
  },
  {
   "cell_type": "code",
   "execution_count": 8,
   "metadata": {},
   "outputs": [
    {
     "name": "stdout",
     "output_type": "stream",
     "text": [
      "Dolu_2 : 'İçi boş olmayan, dolmuş' \n"
     ]
    }
   ],
   "source": [
    "result2=lesk(context2,'dolu')\n",
    "print(result2)"
   ]
  },
  {
   "cell_type": "code",
   "execution_count": null,
   "metadata": {},
   "outputs": [],
   "source": []
  }
 ],
 "metadata": {
  "kernelspec": {
   "display_name": "Python 3",
   "language": "python",
   "name": "python3"
  },
  "language_info": {
   "codemirror_mode": {
    "name": "ipython",
    "version": 3
   },
   "file_extension": ".py",
   "mimetype": "text/x-python",
   "name": "python",
   "nbconvert_exporter": "python",
   "pygments_lexer": "ipython3",
   "version": "3.8.5"
  }
 },
 "nbformat": 4,
 "nbformat_minor": 4
}
