{
 "cells": [
  {
   "cell_type": "code",
   "execution_count": null,
   "metadata": {},
   "outputs": [],
   "source": [
    "import nltk\n",
    "from nltk.stem import WordNetLemmatizer"
   ]
  },
  {
   "cell_type": "code",
   "execution_count": null,
   "metadata": {},
   "outputs": [],
   "source": [
    "#Kelimenin gerçek kökünü bulur\n",
    "lemmatizer=WordNetLemmatizer()\n",
    "print(lemmatizer.lemmatize('studies'))"
   ]
  },
  {
   "cell_type": "code",
   "execution_count": null,
   "metadata": {},
   "outputs": [],
   "source": [
    "#PoS etiketi ile kelime türünü belirliyoruz.Bundan dolayı da hangi türde istiyorsak bize onun sonucu veriyor.\n",
    "word_list=[\"Study\",\"Studies\",\"Studying\",\"Studied\"]\n",
    "lemma=WordNetLemmatizer()\n",
    "for w in word_list:\n",
    "    print(lemma.lemmatize(w,pos=\"v\"))"
   ]
  },
  {
   "cell_type": "code",
   "execution_count": null,
   "metadata": {},
   "outputs": [],
   "source": [
    "#Varsayılan kabul edilen etkiletlerine göre listeler eğer pos değerine bir şey yazılmadıysa\n",
    "word_list=[\"studies\",\"leaves\",\"decreases\",\"plays\"]\n",
    "\n",
    "for w in word_list:\n",
    "    print(lemma.lemmatize(w))"
   ]
  },
  {
   "cell_type": "code",
   "execution_count": null,
   "metadata": {},
   "outputs": [],
   "source": [
    "word_list=[\"am\",\"is\",\"are\",\"was\",\"were\"]\n",
    "for w in word_list:\n",
    "    print(lemma.lemmatize(w,pos=\"v\"))"
   ]
  },
  {
   "cell_type": "code",
   "execution_count": null,
   "metadata": {},
   "outputs": [],
   "source": [
    "lemmatizer=WordNetLemmatizer()\n",
    "print(lemmatizer.lemmatize('studying',pos=\"v\"))\n",
    "print(lemmatizer.lemmatize('studying',pos=\"n\"))\n",
    "print(lemmatizer.lemmatize('studying',pos=\"a\"))\n",
    "print(lemmatizer.lemmatize('studying',pos=\"r\"))"
   ]
  },
  {
   "cell_type": "code",
   "execution_count": null,
   "metadata": {},
   "outputs": [],
   "source": []
  }
 ],
 "metadata": {
  "kernelspec": {
   "display_name": "Python 3",
   "language": "python",
   "name": "python3"
  },
  "language_info": {
   "codemirror_mode": {
    "name": "ipython",
    "version": 3
   },
   "file_extension": ".py",
   "mimetype": "text/x-python",
   "name": "python",
   "nbconvert_exporter": "python",
   "pygments_lexer": "ipython3",
   "version": "3.8.3"
  }
 },
 "nbformat": 4,
 "nbformat_minor": 4
}
