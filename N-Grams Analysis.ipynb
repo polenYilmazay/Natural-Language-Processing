{
 "cells": [
  {
   "cell_type": "code",
   "execution_count": 2,
   "metadata": {},
   "outputs": [
    {
     "name": "stdout",
     "output_type": "stream",
     "text": [
      "Bigram :\n",
      "[('yapay', 'sinir'), ('sinir', 'ağları'), ('doğrusal', 'olmayan'), ('insan', 'beyninin'), ('gerektiren', 'problemlere'), ('yeteneklerini', 'gerektiren'), ('çalışma', 'şekli'), ('işlem', 'birimi,'), ('ağları', ','), ('sinir', 'ağlarının')]\n",
      "\n",
      "Trigram :\n",
      "[('yapay', 'sinir', 'ağları'), ('yapay', 'sinir', 'ağlarının'), ('sinir', 'ağları', ','), ('yeteneklerini', 'gerektiren', 'problemlere'), ('bir', 'işlem', 'birimi,')]\n"
     ]
    }
   ],
   "source": [
    "import nltk\n",
    "from nltk.collocations import *\n",
    "\n",
    "\n",
    "line = \"\"\n",
    "file = open('YSA.txt',encoding=\"utf-8\")\n",
    "\n",
    "for val in file:\n",
    "    line += val\n",
    "words = line.split()\n",
    "\n",
    "words = [word.lower() for word in words]\n",
    "\n",
    "\n",
    "bigram= nltk.collocations.BigramAssocMeasures()\n",
    "finder2 = BigramCollocationFinder.from_words(words)\n",
    "finder2.apply_freq_filter(2) #eşik değeri\n",
    "\n",
    "trigram=nltk.collocations.TrigramAssocMeasures\n",
    "finder3=TrigramCollocationFinder.from_words(words)\n",
    "finder3.apply_freq_filter(2) #eşik değeri \n",
    "print(\"Bigram :\")\n",
    "print(finder2.nbest(bigram.likelihood_ratio, 10))\n",
    "print(\"\\nTrigram :\")\n",
    "print(finder3.nbest(trigram.likelihood_ratio,10))"
   ]
  },
  {
   "cell_type": "code",
   "execution_count": null,
   "metadata": {},
   "outputs": [],
   "source": []
  }
 ],
 "metadata": {
  "kernelspec": {
   "display_name": "Python 3",
   "language": "python",
   "name": "python3"
  },
  "language_info": {
   "codemirror_mode": {
    "name": "ipython",
    "version": 3
   },
   "file_extension": ".py",
   "mimetype": "text/x-python",
   "name": "python",
   "nbconvert_exporter": "python",
   "pygments_lexer": "ipython3",
   "version": "3.8.5"
  }
 },
 "nbformat": 4,
 "nbformat_minor": 4
}
