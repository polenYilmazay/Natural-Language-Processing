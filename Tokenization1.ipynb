{
 "cells": [
  {
   "cell_type": "code",
   "execution_count": 3,
   "metadata": {},
   "outputs": [],
   "source": [
    "import nltk\n",
    "from nltk import sent_tokenize\n",
    "from nltk import word_tokenize\n",
    "from nltk.probability import FreqDist\n",
    "import matplotlib.pyplot as plt\n",
    "from nltk.corpus import stopwords"
   ]
  },
  {
   "cell_type": "code",
   "execution_count": 1,
   "metadata": {},
   "outputs": [
    {
     "name": "stdout",
     "output_type": "stream",
     "text": [
      "<class 'str'>\n",
      "\n",
      "\n",
      "Once upon a time there was an old mother pig who had three little pigs and not enough food to feed them. So when they were old \n",
      "enough, she sent them out into the world to seek their fotunes.\n",
      "The first little pig was very lazy. He didn't want to work at all and he built his house out of saw. The second little pig worked\n",
      "a little bit harder but he was somewhat lazy too and he built his house out of sticks. Then, they sang and danced and played\n",
      "together the rest of the day.\n",
      "The third little pig worked hard all day and built his house with bricks. It was a aturdy house complete with a fine fireplace\n",
      "and chimney. It looked like it could withstand the strongest winds.\n",
      "\n",
      "\n",
      "671\n"
     ]
    }
   ],
   "source": [
    "#Dosya açıldı.Ve okunması yapılıp text_file içine tandı.\n",
    "text_file=open(\"Natural_Language_Processing_Text.txt\")\n",
    "text=text_file.read()\n",
    "#Datatype öğrenildi.\n",
    "print(type(text))\n",
    "print(\"\\n\")\n",
    "#Metin yazdırıldı ve kaarkter uzunluğu ekrana basıldı.\n",
    "print(text)\n",
    "print(\"\\n\")\n",
    "print(len(text))"
   ]
  },
  {
   "cell_type": "code",
   "execution_count": 4,
   "metadata": {},
   "outputs": [
    {
     "name": "stdout",
     "output_type": "stream",
     "text": [
      "9\n"
     ]
    },
    {
     "data": {
      "text/plain": [
       "['Once upon a time there was an old mother pig who had three little pigs and not enough food to feed them.',\n",
       " 'So when they were old \\nenough, she sent them out into the world to seek their fotunes.',\n",
       " 'The first little pig was very lazy.',\n",
       " \"He didn't want to work at all and he built his house out of saw.\",\n",
       " 'The second little pig worked\\na little bit harder but he was somewhat lazy too and he built his house out of sticks.',\n",
       " 'Then, they sang and danced and played\\ntogether the rest of the day.',\n",
       " 'The third little pig worked hard all day and built his house with bricks.',\n",
       " 'It was a aturdy house complete with a fine fireplace\\nand chimney.',\n",
       " 'It looked like it could withstand the strongest winds.']"
      ]
     },
     "execution_count": 4,
     "metadata": {},
     "output_type": "execute_result"
    }
   ],
   "source": [
    "#SentTokenizer\n",
    "sentences=sent_tokenize(text)\n",
    "print(len(sentences)) #Kaç cümle olduğu.\n",
    "sentences"
   ]
  },
  {
   "cell_type": "code",
   "execution_count": 6,
   "metadata": {},
   "outputs": [
    {
     "name": "stdout",
     "output_type": "stream",
     "text": [
      "144\n",
      "['Once', 'upon', 'a', 'time', 'there', 'was', 'an', 'old', 'mother', 'pig', 'who', 'had', 'three', 'little', 'pigs', 'and', 'not', 'enough', 'food', 'to', 'feed', 'them', '.', 'So', 'when', 'they', 'were', 'old', 'enough', ',', 'she', 'sent', 'them', 'out', 'into', 'the', 'world', 'to', 'seek', 'their', 'fotunes', '.', 'The', 'first', 'little', 'pig', 'was', 'very', 'lazy', '.', 'He', 'did', \"n't\", 'want', 'to', 'work', 'at', 'all', 'and', 'he', 'built', 'his', 'house', 'out', 'of', 'saw', '.', 'The', 'second', 'little', 'pig', 'worked', 'a', 'little', 'bit', 'harder', 'but', 'he', 'was', 'somewhat', 'lazy', 'too', 'and', 'he', 'built', 'his', 'house', 'out', 'of', 'sticks', '.', 'Then', ',', 'they', 'sang', 'and', 'danced', 'and', 'played', 'together', 'the', 'rest', 'of', 'the', 'day', '.', 'The', 'third', 'little', 'pig', 'worked', 'hard', 'all', 'day', 'and', 'built', 'his', 'house', 'with', 'bricks', '.', 'It', 'was', 'a', 'aturdy', 'house', 'complete', 'with', 'a', 'fine', 'fireplace', 'and', 'chimney', '.', 'It', 'looked', 'like', 'it', 'could', 'withstand', 'the', 'strongest', 'winds', '.']\n"
     ]
    }
   ],
   "source": [
    "#WordTokenizer\n",
    "words=word_tokenize(text)\n",
    "print(len(words))\n",
    "print(words)"
   ]
  },
  {
   "cell_type": "code",
   "execution_count": 7,
   "metadata": {},
   "outputs": [
    {
     "data": {
      "text/plain": [
       "[('.', 9),\n",
       " ('and', 7),\n",
       " ('little', 5),\n",
       " ('a', 4),\n",
       " ('was', 4),\n",
       " ('pig', 4),\n",
       " ('the', 4),\n",
       " ('house', 4),\n",
       " ('to', 3),\n",
       " ('out', 3)]"
      ]
     },
     "execution_count": 7,
     "metadata": {},
     "output_type": "execute_result"
    }
   ],
   "source": [
    "#Kelimelerin frekans dağılımı (Kullanım sıklığı)\n",
    "fdist=FreqDist(words)\n",
    "fdist.most_common(10)"
   ]
  },
  {
   "cell_type": "code",
   "execution_count": 8,
   "metadata": {},
   "outputs": [
    {
     "data": {
      "image/png": "[encoded data removed]",
      "text/plain": [
       "<Figure size 432x288 with 1 Axes>"
      ]
     },
     "metadata": {
      "needs_background": "light"
     },
     "output_type": "display_data"
    },
    {
     "data": {
      "text/plain": [
       "<matplotlib.axes._subplots.AxesSubplot at 0x25be06b1490>"
      ]
     },
     "execution_count": 8,
     "metadata": {},
     "output_type": "execute_result"
    }
   ],
   "source": [
    "fdist.plot(10)"
   ]
  },
  {
   "cell_type": "code",
   "execution_count": 9,
   "metadata": {},
   "outputs": [
    {
     "name": "stdout",
     "output_type": "stream",
     "text": [
      "['once', 'upon', 'a', 'time', 'there', 'was', 'an', 'old', 'mother', 'pig', 'who', 'had', 'three', 'little', 'pigs', 'and', 'not', 'enough', 'food', 'to', 'feed', 'them', 'so', 'when', 'they', 'were', 'old', 'enough', 'she', 'sent', 'them', 'out', 'into', 'the', 'world', 'to', 'seek', 'their', 'fotunes', 'the', 'first', 'little', 'pig', 'was', 'very', 'lazy', 'he', 'did', 'want', 'to', 'work', 'at', 'all', 'and', 'he', 'built', 'his', 'house', 'out', 'of', 'saw', 'the', 'second', 'little', 'pig', 'worked', 'a', 'little', 'bit', 'harder', 'but', 'he', 'was', 'somewhat', 'lazy', 'too', 'and', 'he', 'built', 'his', 'house', 'out', 'of', 'sticks', 'then', 'they', 'sang', 'and', 'danced', 'and', 'played', 'together', 'the', 'rest', 'of', 'the', 'day', 'the', 'third', 'little', 'pig', 'worked', 'hard', 'all', 'day', 'and', 'built', 'his', 'house', 'with', 'bricks', 'it', 'was', 'a', 'aturdy', 'house', 'complete', 'with', 'a', 'fine', 'fireplace', 'and', 'chimney', 'it', 'looked', 'like', 'it', 'could', 'withstand', 'the', 'strongest', 'winds']\n",
      "132\n"
     ]
    }
   ],
   "source": [
    "#Noktalama işaretlerini kaldırma fonk isalpha() \n",
    "#Ve noktalama işaretleri olmadan kelimeleri tutan liste yapımı\n",
    "words_no_punc=[]\n",
    "\n",
    "for w in words:\n",
    "    if w.isalpha():\n",
    "        words_no_punc.append(w.lower())\n",
    "\n",
    "print(words_no_punc)\n",
    "print(len(words_no_punc))"
   ]
  },
  {
   "cell_type": "code",
   "execution_count": 10,
   "metadata": {},
   "outputs": [
    {
     "name": "stdout",
     "output_type": "stream",
     "text": [
      "[('and', 7), ('the', 7), ('little', 5), ('a', 4), ('was', 4), ('pig', 4), ('he', 4), ('house', 4), ('to', 3), ('out', 3)]\n"
     ]
    },
    {
     "data": {
      "image/png": "[encoded data removed]",
      "text/plain": [
       "<Figure size 432x288 with 1 Axes>"
      ]
     },
     "metadata": {
      "needs_background": "light"
     },
     "output_type": "display_data"
    },
    {
     "data": {
      "text/plain": [
       "<matplotlib.axes._subplots.AxesSubplot at 0x25bdb77a490>"
      ]
     },
     "execution_count": 10,
     "metadata": {},
     "output_type": "execute_result"
    }
   ],
   "source": [
    "#Noktalama işaretleri olmadan frekans dağılımı ve grafiği\n",
    "fdist=FreqDist(words_no_punc)\n",
    "print(fdist.most_common(10))\n",
    "fdist.plot(10)"
   ]
  },
  {
   "cell_type": "code",
   "execution_count": null,
   "metadata": {},
   "outputs": [],
   "source": [
    "#StopWords listeleri\n",
    "stopwords=stopwords.words(\"english\")\n",
    "print(stopwords)"
   ]
  },
  {
   "cell_type": "code",
   "execution_count": null,
   "metadata": {},
   "outputs": [],
   "source": [
    "#StopWords kaldırma\n",
    "clean_words=[]\n",
    "\n",
    "for w in words_no_punc:\n",
    "    if w not in stopwords:\n",
    "        clean_words.append(w)\n",
    "        \n",
    "print(clean_words)\n",
    "print(\"\\n\")\n",
    "print(len(clean_words))"
   ]
  },
  {
   "cell_type": "code",
   "execution_count": null,
   "metadata": {},
   "outputs": [],
   "source": []
  }
 ],
 "metadata": {
  "kernelspec": {
   "display_name": "Python 3",
   "language": "python",
   "name": "python3"
  },
  "language_info": {
   "codemirror_mode": {
    "name": "ipython",
    "version": 3
   },
   "file_extension": ".py",
   "mimetype": "text/x-python",
   "name": "python",
   "nbconvert_exporter": "python",
   "pygments_lexer": "ipython3",
   "version": "3.8.5"
  }
 },
 "nbformat": 4,
 "nbformat_minor": 4
}
