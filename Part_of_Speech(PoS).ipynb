{
 "cells": [
  {
   "cell_type": "code",
   "execution_count": 16,
   "metadata": {},
   "outputs": [],
   "source": [
    "import nltk\n",
    "from nltk import word_tokenize\n",
    "from nltk import RegexpParser"
   ]
  },
  {
   "cell_type": "code",
   "execution_count": null,
   "metadata": {},
   "outputs": [],
   "source": [
    "#Verilen kelimeleri standart etiketlerine göre sınıflandırma\n",
    "tag=nltk.pos_tag([\"Studying\",\"Study\"])\n",
    "print(tag)"
   ]
  },
  {
   "cell_type": "code",
   "execution_count": null,
   "metadata": {},
   "outputs": [],
   "source": [
    "sentence=\"A very beautiful young lady is walking on the beach\"\n",
    "tokenized_words=word_tokenize(sentence)\n",
    "\n",
    "for words in tokenized_words:\n",
    "    tagged_words=nltk.pos_tag(tokenized_words)\n",
    "\n",
    "tagged_words    "
   ]
  },
  {
   "cell_type": "code",
   "execution_count": null,
   "metadata": {},
   "outputs": [],
   "source": [
    "grammar=\"NP : {<DT>?<JJ>*<NN>}\"\n",
    "parser=nltk.RegexpParser(grammar)\n",
    "output=parser.parse(tagged_words)\n",
    "print(output)\n",
    "output.draw()"
   ]
  },
  {
   "cell_type": "code",
   "execution_count": null,
   "metadata": {},
   "outputs": [],
   "source": [
    "grammar=r\"\"\" NP :{<.*>+}\n",
    "             }<JJ>+{\"\"\"\n",
    "parser=nltk.RegexpParser(grammar)\n",
    "output=parser.parse(tagged_words)\n",
    "print(output)\n",
    "output.draw()"
   ]
  },
  {
   "cell_type": "code",
   "execution_count": null,
   "metadata": {},
   "outputs": [],
   "source": []
  }
 ],
 "metadata": {
  "kernelspec": {
   "display_name": "Python 3",
   "language": "python",
   "name": "python3"
  }
 },
 "nbformat": 4,
 "nbformat_minor": 4
}
