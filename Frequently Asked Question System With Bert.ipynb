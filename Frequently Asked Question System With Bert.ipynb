{
 "cells": [
  {
   "cell_type": "code",
   "execution_count": 1,
   "metadata": {},
   "outputs": [],
   "source": [
    "import pandas as pd\n",
    "import re\n",
    "import gensim\n",
    "from gensim.parsing.preprocessing import remove_stopwords\n",
    "import sklearn\n",
    "from sklearn.metrics.pairwise import cosine_similarity\n",
    "from sentence_transformers import SentenceTransformer\n",
    "from IPython.display import clear_output"
   ]
  },
  {
   "cell_type": "code",
   "execution_count": 2,
   "metadata": {},
   "outputs": [],
   "source": [
    "df = pd.read_csv(\"FAQ.csv\")"
   ]
  },
  {
   "cell_type": "code",
   "execution_count": 3,
   "metadata": {},
   "outputs": [],
   "source": [
    "def clean_sentence(sentence, stopwords=False):\n",
    "    \n",
    "    sentence = sentence.lower().strip()\n",
    "    sentence = re.sub(r'[^a-z0-9\\s]', '', sentence)\n",
    "    \n",
    "    if stopwords:\n",
    "        sentence = remove_stopwords(sentence)\n",
    "        \n",
    "    return sentence"
   ]
  },
  {
   "cell_type": "code",
   "execution_count": 4,
   "metadata": {},
   "outputs": [],
   "source": [
    "def get_cleaned_sentences(df, stopwords=False):\n",
    "    cleaned_sentences=[]\n",
    "    \n",
    "    for index, row in df.iterrows():\n",
    "        cleaned = clean_sentence(row[\"questions\"], stopwords)\n",
    "        cleaned_sentences.append(cleaned)\n",
    "        \n",
    "    return cleaned_sentences"
   ]
  },
  {
   "cell_type": "code",
   "execution_count": 5,
   "metadata": {},
   "outputs": [],
   "source": [
    "def retrieveAndPrintFAQAnswer(question_embedding, sentence_embeddings, FAQdf, sentences, min_similarity):\n",
    "    max_sim = -1;\n",
    "    index_sim = -1\n",
    "    \n",
    "    # cosine similarity\n",
    "    for index, faq_embedding in enumerate(sentence_embeddings):\n",
    "        sim = cosine_similarity(faq_embedding, question_embedding)[0][0]\n",
    "        #print(index, sim, sentences[index])\n",
    "        \n",
    "        if sim > max_sim:\n",
    "            max_sim = sim\n",
    "            index_sim = index\n",
    "    \n",
    "    print(f\"\\nSimilarity: {max_sim}\")\n",
    "    if max_sim > min_similarity:\n",
    "        print(\"\\nRetrived: \", FAQdf.iloc[index_sim, 0])\n",
    "        print(FAQdf.iloc[index_sim, 1])\n",
    "        print(\"\\n\")\n",
    "    else:\n",
    "        print(\"\\nCouldn't find a relevant answer to your question.\\nPlease write us a mail of your query.\\nOur experts will reach out to you ASAP.\\n\")\n"
   ]
  },
  {
   "cell_type": "code",
   "execution_count": 6,
   "metadata": {},
   "outputs": [],
   "source": [
    "bert_model = SentenceTransformer('distilbert-base-nli-stsb-mean-tokens')"
   ]
  },
  {
   "cell_type": "code",
   "execution_count": 7,
   "metadata": {},
   "outputs": [],
   "source": [
    "cleaned_sentences = get_cleaned_sentences(df, stopwords=False)"
   ]
  },
  {
   "cell_type": "code",
   "execution_count": 8,
   "metadata": {},
   "outputs": [],
   "source": [
    "sent_bertphrase_embeddings=[]"
   ]
  },
  {
   "cell_type": "code",
   "execution_count": 9,
   "metadata": {},
   "outputs": [],
   "source": [
    "for sent in cleaned_sentences:\n",
    "    sent_bertphrase_embeddings.append(bert_model.encode([sent]))"
   ]
  },
  {
   "cell_type": "code",
   "execution_count": 10,
   "metadata": {},
   "outputs": [],
   "source": [
    "min_similarity = 0.1"
   ]
  },
  {
   "cell_type": "code",
   "execution_count": 11,
   "metadata": {},
   "outputs": [
    {
     "name": "stdout",
     "output_type": "stream",
     "text": [
      "Have a nice day !\n"
     ]
    }
   ],
   "source": [
    "while True:\n",
    "    \n",
    "    # asking for a question\n",
    "    print(\"Please enter your Query or press 'q' to exit.\")\n",
    "    question = input(\"Question: \")\n",
    "\n",
    "    clear_output()\n",
    "    print(\"Question: \" + question)\n",
    "    \n",
    "    # break condition\n",
    "    if question == 'q':\n",
    "        clear_output()\n",
    "        print(\"Have a nice day !\")\n",
    "        break\n",
    "    \n",
    "    # preprocessing the question\n",
    "    question = clean_sentence(question, stopwords=False)\n",
    "\n",
    "    question_embedding = bert_model.encode([question])\n",
    "\n",
    "    retrieveAndPrintFAQAnswer(question_embedding, sent_bertphrase_embeddings, df, cleaned_sentences, min_similarity)"
   ]
  }
 ],
 "metadata": {
  "kernelspec": {
   "display_name": "Python 3",
   "language": "python",
   "name": "python3"
  },
  "language_info": {
   "codemirror_mode": {
    "name": "ipython",
    "version": 3
   },
   "file_extension": ".py",
   "mimetype": "text/x-python",
   "name": "python",
   "nbconvert_exporter": "python",
   "pygments_lexer": "ipython3",
   "version": "3.8.5"
  }
 },
 "nbformat": 4,
 "nbformat_minor": 4
}
